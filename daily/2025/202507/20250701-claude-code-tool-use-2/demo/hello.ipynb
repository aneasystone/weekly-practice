{
 "cells": [
  {
   "cell_type": "markdown",
   "metadata": {},
   "source": [
    "# Python 列表的基本用法"
   ]
  },
  {
   "cell_type": "markdown",
   "metadata": {},
   "source": [
    "# Python 列表基本用法演示\n",
    "\n",
    "本笔记将演示 Python 列表的基本操作和常用方法。"
   ]
  },
  {
   "cell_type": "markdown",
   "metadata": {},
   "source": [
    "## 1. 创建列表\n",
    "\n",
    "列表是 Python 中最常用的数据结构之一，用方括号 `[]` 来创建。"
   ]
  },
  {
   "cell_type": "code",
   "execution_count": null,
   "metadata": {},
   "outputs": [],
   "source": [
    "# 创建空列表\n",
    "empty_list = []\n",
    "print(\"空列表:\", empty_list)\n",
    "\n",
    "# 创建包含元素的列表\n",
    "fruits = [\"苹果\", \"香蕉\", \"橙子\", \"葡萄\"]\n",
    "print(\"水果列表:\", fruits)\n",
    "\n",
    "# 创建包含不同数据类型的列表\n",
    "mixed_list = [1, \"hello\", 3.14, True]\n",
    "print(\"混合类型列表:\", mixed_list)"
   ]
  },
  {
   "cell_type": "markdown",
   "metadata": {},
   "source": [
    "## 2. 访问列表元素\n",
    "\n",
    "使用索引访问列表中的元素，索引从 0 开始。"
   ]
  },
  {
   "cell_type": "code",
   "execution_count": null,
   "metadata": {},
   "outputs": [],
   "source": [
    "# 访问列表元素\n",
    "numbers = [10, 20, 30, 40, 50]\n",
    "\n",
    "# 正向索引\n",
    "print(\"第一个元素:\", numbers[0])\n",
    "print(\"第三个元素:\", numbers[2])\n",
    "\n",
    "# 负向索引（从末尾开始）\n",
    "print(\"最后一个元素:\", numbers[-1])\n",
    "print(\"倒数第二个元素:\", numbers[-2])\n",
    "\n",
    "# 列表切片\n",
    "print(\"前三个元素:\", numbers[0:3])\n",
    "print(\"从第二个到最后:\", numbers[1:])\n",
    "print(\"最后两个元素:\", numbers[-2:])"
   ]
  },
  {
   "cell_type": "markdown",
   "metadata": {},
   "source": [
    "## 3. 修改列表\n",
    "\n",
    "列表是可变的，可以修改、添加或删除元素。"
   ]
  },
  {
   "cell_type": "code",
   "execution_count": null,
   "metadata": {},
   "outputs": [],
   "source": [
    "# 修改列表元素\n",
    "colors = [\"红色\", \"绿色\", \"蓝色\"]\n",
    "print(\"原始列表:\", colors)\n",
    "\n",
    "# 修改单个元素\n",
    "colors[1] = \"黄色\"\n",
    "print(\"修改后:\", colors)\n",
    "\n",
    "# 添加元素\n",
    "colors.append(\"紫色\")  # 在末尾添加\n",
    "print(\"添加紫色:\", colors)\n",
    "\n",
    "colors.insert(1, \"橙色\")  # 在指定位置插入\n",
    "print(\"插入橙色:\", colors)\n",
    "\n",
    "# 删除元素\n",
    "colors.remove(\"蓝色\")  # 删除指定元素\n",
    "print(\"删除蓝色:\", colors)\n",
    "\n",
    "deleted_color = colors.pop()  # 删除并返回最后一个元素\n",
    "print(\"弹出的颜色:\", deleted_color)\n",
    "print(\"弹出后的列表:\", colors)"
   ]
  },
  {
   "cell_type": "markdown",
   "metadata": {},
   "source": [
    "## 4. 列表常用方法\n",
    "\n",
    "探索列表的一些常用方法和操作。"
   ]
  },
  {
   "cell_type": "code",
   "execution_count": null,
   "metadata": {},
   "outputs": [],
   "source": [
    "# 列表常用方法演示\n",
    "scores = [85, 92, 78, 96, 88, 92]\n",
    "print(\"分数列表:\", scores)\n",
    "\n",
    "# 获取列表长度\n",
    "print(\"列表长度:\", len(scores))\n",
    "\n",
    "# 查找元素\n",
    "print(\"92的索引:\", scores.index(92))\n",
    "print(\"92出现的次数:\", scores.count(92))\n",
    "\n",
    "# 排序\n",
    "scores_copy = scores.copy()  # 创建副本\n",
    "scores_copy.sort()  # 原地排序\n",
    "print(\"升序排序:\", scores_copy)\n",
    "\n",
    "scores_desc = sorted(scores, reverse=True)  # 创建新的排序列表\n",
    "print(\"降序排序:\", scores_desc)\n",
    "\n",
    "# 反转列表\n",
    "reversed_scores = scores.copy()\n",
    "reversed_scores.reverse()\n",
    "print(\"反转列表:\", reversed_scores)\n",
    "\n",
    "# 列表合并\n",
    "bonus_scores = [95, 89]\n",
    "all_scores = scores + bonus_scores\n",
    "print(\"合并列表:\", all_scores)"
   ]
  },
  {
   "cell_type": "markdown",
   "metadata": {},
   "source": [
    "## 5. 列表推导式\n",
    "\n",
    "列表推导式是创建列表的简洁方式。"
   ]
  },
  {
   "cell_type": "code",
   "execution_count": null,
   "metadata": {},
   "outputs": [],
   "source": [
    "# 列表推导式示例\n",
    "\n",
    "# 基本语法：[表达式 for 变量 in 序列]\n",
    "squares = [x**2 for x in range(1, 6)]\n",
    "print(\"平方数列表:\", squares)\n",
    "\n",
    "# 带条件的列表推导式\n",
    "even_squares = [x**2 for x in range(1, 11) if x % 2 == 0]\n",
    "print(\"偶数的平方:\", even_squares)\n",
    "\n",
    "# 字符串处理\n",
    "words = [\"python\", \"list\", \"comprehension\"]\n",
    "upper_words = [word.upper() for word in words]\n",
    "print(\"大写单词:\", upper_words)\n",
    "\n",
    "# 嵌套列表推导式\n",
    "matrix = [[i*j for j in range(1, 4)] for i in range(1, 4)]\n",
    "print(\"乘法表矩阵:\")\n",
    "for row in matrix:\n",
    "    print(row)"
   ]
  },
  {
   "cell_type": "markdown",
   "metadata": {},
   "source": [
    "## 总结\n",
    "\n",
    "本演示展示了 Python 列表的主要特性：\n",
    "- 创建和初始化列表\n",
    "- 使用索引和切片访问元素\n",
    "- 修改列表内容（添加、删除、更新）\n",
    "- 常用方法（排序、查找、计数等）\n",
    "- 列表推导式的使用\n",
    "\n",
    "列表是 Python 中最灵活和常用的数据结构之一，掌握这些基本操作对 Python 编程非常重要。"
   ]
  }
 ],
 "metadata": {
  "language_info": {
   "name": "python"
  }
 },
 "nbformat": 4,
 "nbformat_minor": 2
}
